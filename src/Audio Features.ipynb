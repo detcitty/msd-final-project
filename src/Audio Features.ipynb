{
 "cells": [
  {
   "cell_type": "code",
   "execution_count": 1,
   "metadata": {
    "collapsed": false
   },
   "outputs": [
    {
     "name": "stdout",
     "output_type": "stream",
     "text": [
      "  0 Enter Sandman\n",
      "  1 Nothing Else Matters\n",
      "  2 The Unforgiven\n",
      "  3 Sad But True\n",
      "  4 Master Of Puppets\n",
      "  5 Wherever I May Roam\n",
      "  6 One\n",
      "  7 For Whom The Bell Tolls (Remastered)\n",
      "  8 Moth Into Flame\n",
      "  9 Don't Tread On Me\n",
      "  10 Whiskey In The Jar\n",
      "  11 Fade To Black (Remastered)\n",
      "  12 Of Wolf And Man\n",
      "  13 Through The Never\n",
      "  14 Hardwired\n",
      "  15 Holier Than Thou\n",
      "  16 Fuel\n",
      "  17 Battery\n",
      "  18 Atlas, Rise!\n",
      "  19 Turn The Page\n"
     ]
    }
   ],
   "source": [
    "import spotipy\n",
    "sp = spotipy.Spotify()\n",
    "\n",
    "results = sp.search(q='metallica', limit=20)\n",
    "for i, t in enumerate(results['tracks']['items']):\n",
    "    print ' ', i, t['name']"
   ]
  },
  {
   "cell_type": "code",
   "execution_count": null,
   "metadata": {
    "collapsed": true
   },
   "outputs": [],
   "source": []
  }
 ],
 "metadata": {
  "kernelspec": {
   "display_name": "Python 2",
   "language": "python",
   "name": "python2"
  },
  "language_info": {
   "codemirror_mode": {
    "name": "ipython",
    "version": 2
   },
   "file_extension": ".py",
   "mimetype": "text/x-python",
   "name": "python",
   "nbconvert_exporter": "python",
   "pygments_lexer": "ipython2",
   "version": "2.7.12"
  }
 },
 "nbformat": 4,
 "nbformat_minor": 1
}
